{
  "nbformat": 4,
  "nbformat_minor": 0,
  "metadata": {
    "colab": {
      "provenance": [],
      "authorship_tag": "ABX9TyPRSEIHEd287jVysWrIldIJ",
      "include_colab_link": true
    },
    "kernelspec": {
      "name": "python3",
      "display_name": "Python 3"
    },
    "language_info": {
      "name": "python"
    }
  },
  "cells": [
    {
      "cell_type": "markdown",
      "metadata": {
        "id": "view-in-github",
        "colab_type": "text"
      },
      "source": [
        "<a href=\"https://colab.research.google.com/github/Romsalways/gptstudio/blob/main/Untitled12.ipynb\" target=\"_parent\"><img src=\"https://colab.research.google.com/assets/colab-badge.svg\" alt=\"Open In Colab\"/></a>"
      ]
    },
    {
      "cell_type": "code",
      "execution_count": 7,
      "metadata": {
        "colab": {
          "base_uri": "https://localhost:8080/"
        },
        "id": "OjfUUv_9IeGj",
        "outputId": "bcd25e39-c7f6-4896-930f-a7a7332e645e"
      },
      "outputs": [
        {
          "output_type": "stream",
          "name": "stdout",
          "text": [
            "   location age_group  prevalence\n",
            "0      loc1       0-5   13.637258\n",
            "1      loc1      6-10   13.637258\n",
            "2      loc1     11-15   13.637258\n",
            "3      loc1     16-20   13.637258\n",
            "4      loc1       21+   13.637258\n",
            "5      loc2       0-5   13.637258\n",
            "6      loc2      6-10   13.637258\n",
            "7      loc2     11-15   13.637258\n",
            "8      loc2     16-20   13.637258\n",
            "9      loc2       21+   13.637258\n",
            "10     loc3       0-5   13.637258\n",
            "11     loc3      6-10   13.637258\n",
            "12     loc3     11-15   13.637258\n",
            "13     loc3     16-20   13.637258\n",
            "14     loc3       21+   13.637258\n",
            "15     loc4       0-5   13.637258\n",
            "16     loc4      6-10   13.637258\n",
            "17     loc4     11-15   13.637258\n",
            "18     loc4     16-20   13.637258\n",
            "19     loc4       21+   13.637258\n",
            "20     loc5       0-5   13.637258\n",
            "21     loc5      6-10   13.637258\n",
            "22     loc5     11-15   13.637258\n",
            "23     loc5     16-20   13.637258\n",
            "24     loc5       21+   13.637258\n"
          ]
        }
      ],
      "source": [
        "import numpy as np\n",
        "import pandas as pd\n",
        "\n",
        "# Step 1: Generate synthetic environmental covariates data\n",
        "def generate_environmental_data(num_locations):\n",
        "    np.random.seed(42)  # For reproducibility\n",
        "    locations = [f'loc{i}' for i in range(1, num_locations + 1)]\n",
        "    temperature = np.random.uniform(20, 30, num_locations)  # degrees Celsius\n",
        "    rainfall = np.random.uniform(0, 200, num_locations)     # mm per month\n",
        "    humidity = np.random.uniform(50, 90, num_locations)     # percentage\n",
        "    return pd.DataFrame({\n",
        "        'location': locations,\n",
        "        'temperature': temperature,\n",
        "        'rainfall': rainfall,\n",
        "        'humidity': humidity\n",
        "    })\n",
        "\n",
        "# Step 2: Calculate EIR based on environmental covariates\n",
        "def calculate_eir(data):\n",
        "    # Simplified example: EIR as a function of temperature, rainfall, and humidity\n",
        "    eir = 0.1 * data['temperature'] + 0.05 * data['rainfall'] + 0.01 * data['humidity']\n",
        "    data['eir'] = eir\n",
        "    return data\n",
        "\n",
        "# Step 3: Implement the Garki model\n",
        "def garki_model(eir, beta, gamma, delta, time_steps=365):\n",
        "    S, I, R = [100.0], [30.0], [5.0]  # Initial conditions: all susceptible\n",
        "    for t in range(1, time_steps):\n",
        "        S_new = S[-1] - beta * S[-1] * I[-1] + delta * (S[-1] + I[-1] + R[-1])\n",
        "        I_new = I[-1] + beta * S[-1] * I[-1] - gamma * I[-1] - delta * I[-1]\n",
        "        R_new = R[-1] + gamma * I[-1] - delta * R[-1]\n",
        "        S.append(S_new)\n",
        "        I.append(I_new)\n",
        "        R.append(R_new)\n",
        "    return S, I, R\n",
        "\n",
        "# Step 4: Calculate age-specific infection prevalence\n",
        "def calculate_prevalence(data, age_groups):\n",
        "    results = []\n",
        "    for index, row in data.iterrows():\n",
        "        eir = row['eir']\n",
        "        S, I, R = garki_model(eir, beta=0.03, gamma=0.1, delta=0.01)\n",
        "        prevalence = I[-1]  # Infection prevalence at the end of the simulation period\n",
        "        for age_group in age_groups:\n",
        "            results.append({\n",
        "                'location': row['location'],\n",
        "                'age_group': age_group,\n",
        "                'prevalence': prevalence\n",
        "            })\n",
        "    return pd.DataFrame(results)\n",
        "\n",
        "# Main script\n",
        "num_locations = 5\n",
        "age_groups = ['0-5', '6-10', '11-15', '16-20', '21+']\n",
        "\n",
        "# Generate environmental data\n",
        "env_data = generate_environmental_data(num_locations)\n",
        "# Calculate EIR\n",
        "eir_data = calculate_eir(env_data)\n",
        "# Calculate prevalence\n",
        "prevalence_data = calculate_prevalence(eir_data, age_groups)\n",
        "\n",
        "print(prevalence_data)\n"
      ]
    }
  ]
}