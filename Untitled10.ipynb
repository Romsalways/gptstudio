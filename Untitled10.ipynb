{
  "nbformat": 4,
  "nbformat_minor": 0,
  "metadata": {
    "colab": {
      "provenance": [],
      "authorship_tag": "ABX9TyPbc1WnxFh1NxFRdmxcY71o",
      "include_colab_link": true
    },
    "kernelspec": {
      "name": "python3",
      "display_name": "Python 3"
    },
    "language_info": {
      "name": "python"
    }
  },
  "cells": [
    {
      "cell_type": "markdown",
      "metadata": {
        "id": "view-in-github",
        "colab_type": "text"
      },
      "source": [
        "<a href=\"https://colab.research.google.com/github/Romsalways/gptstudio/blob/main/Untitled10.ipynb\" target=\"_parent\"><img src=\"https://colab.research.google.com/assets/colab-badge.svg\" alt=\"Open In Colab\"/></a>"
      ]
    },
    {
      "cell_type": "code",
      "execution_count": 1,
      "metadata": {
        "colab": {
          "base_uri": "https://localhost:8080/"
        },
        "id": "NTfF4F_yE48T",
        "outputId": "9185df37-2068-4acb-b75b-4fa0c53f07c4"
      },
      "outputs": [
        {
          "output_type": "stream",
          "name": "stdout",
          "text": [
            "  location age_group  prevalence\n",
            "0     loc1       0-5         0.0\n",
            "1     loc2      6-10         0.0\n",
            "2     loc3     11-15         0.0\n"
          ]
        }
      ],
      "source": [
        "import numpy as np\n",
        "import pandas as pd\n",
        "\n",
        "# Example data\n",
        "data = pd.DataFrame({\n",
        "    'location': ['loc1', 'loc2', 'loc3'],\n",
        "    'age_group': ['0-5', '6-10', '11-15'],\n",
        "    'inoculation_rate': [0.2, 0.3, 0.4]\n",
        "})\n",
        "\n",
        "# Parameters for the Garki model (example values)\n",
        "beta = 0.02  # transmission rate\n",
        "gamma = 0.1  # recovery rate\n",
        "delta = 0.01 # death rate\n",
        "\n",
        "# Garki model function\n",
        "def garki_model(inoculation_rate, beta, gamma, delta, time_steps=365):\n",
        "    S, I, R = [1.0], [0.0], [0.0]  # Initial conditions: all susceptible\n",
        "    for t in range(1, time_steps):\n",
        "        S_new = S[-1] - beta * S[-1] * I[-1] + delta * (S[-1] + I[-1] + R[-1])\n",
        "        I_new = I[-1] + beta * S[-1] * I[-1] - gamma * I[-1] - delta * I[-1]\n",
        "        R_new = R[-1] + gamma * I[-1] - delta * R[-1]\n",
        "        S.append(S_new)\n",
        "        I.append(I_new)\n",
        "        R.append(R_new)\n",
        "    return S, I, R\n",
        "\n",
        "# Calculate age-specific infection prevalence\n",
        "results = []\n",
        "for index, row in data.iterrows():\n",
        "    inoculation_rate = row['inoculation_rate']\n",
        "    S, I, R = garki_model(inoculation_rate, beta, gamma, delta)\n",
        "    prevalence = I[-1]  # Infection prevalence at the end of the simulation period\n",
        "    results.append({\n",
        "        'location': row['location'],\n",
        "        'age_group': row['age_group'],\n",
        "        'prevalence': prevalence\n",
        "    })\n",
        "\n",
        "prevalence_df = pd.DataFrame(results)\n",
        "print(prevalence_df)\n"
      ]
    }
  ]
}