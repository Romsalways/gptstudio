{
  "nbformat": 4,
  "nbformat_minor": 0,
  "metadata": {
    "colab": {
      "provenance": [],
      "authorship_tag": "ABX9TyOKexidt33OVxBghK1qlbka",
      "include_colab_link": true
    },
    "kernelspec": {
      "name": "python3",
      "display_name": "Python 3"
    },
    "language_info": {
      "name": "python"
    }
  },
  "cells": [
    {
      "cell_type": "markdown",
      "metadata": {
        "id": "view-in-github",
        "colab_type": "text"
      },
      "source": [
        "<a href=\"https://colab.research.google.com/github/Romsalways/gptstudio/blob/main/Untitled9.ipynb\" target=\"_parent\"><img src=\"https://colab.research.google.com/assets/colab-badge.svg\" alt=\"Open In Colab\"/></a>"
      ]
    },
    {
      "cell_type": "code",
      "source": [
        "import numpy as np\n",
        "import pandas as pd\n",
        "from pykrige.uk import UniversalKriging\n",
        "import pystan\n",
        "import matplotlib.pyplot as plt\n"
      ],
      "metadata": {
        "colab": {
          "base_uri": "https://localhost:8080/",
          "height": 322
        },
        "id": "zHlagk1vA-vY",
        "outputId": "c64bddd0-6218-4ce5-97c3-24f84d0068a2"
      },
      "execution_count": 12,
      "outputs": [
        {
          "output_type": "error",
          "ename": "ModuleNotFoundError",
          "evalue": "No module named 'pystan'",
          "traceback": [
            "\u001b[0;31m---------------------------------------------------------------------------\u001b[0m",
            "\u001b[0;31mModuleNotFoundError\u001b[0m                       Traceback (most recent call last)",
            "\u001b[0;32m<ipython-input-12-ca8618bb8e4a>\u001b[0m in \u001b[0;36m<cell line: 1>\u001b[0;34m()\u001b[0m\n\u001b[0;32m----> 1\u001b[0;31m \u001b[0;32mimport\u001b[0m \u001b[0mpystan\u001b[0m\u001b[0;34m\u001b[0m\u001b[0;34m\u001b[0m\u001b[0m\n\u001b[0m",
            "\u001b[0;31mModuleNotFoundError\u001b[0m: No module named 'pystan'",
            "",
            "\u001b[0;31m---------------------------------------------------------------------------\u001b[0;32m\nNOTE: If your import is failing due to a missing package, you can\nmanually install dependencies using either !pip or !apt.\n\nTo view examples of installing some common dependencies, click the\n\"Open Examples\" button below.\n\u001b[0;31m---------------------------------------------------------------------------\u001b[0m\n"
          ],
          "errorDetails": {
            "actions": [
              {
                "action": "open_url",
                "actionText": "Open Examples",
                "url": "/notebooks/snippets/importing_libraries.ipynb"
              }
            ]
          }
        }
      ]
    },
    {
      "cell_type": "code",
      "execution_count": 7,
      "metadata": {
        "id": "DX9VPsMnAxWG"
      },
      "outputs": [],
      "source": [
        "# Example data (replace with your actual data)\n",
        "data = pd.DataFrame({\n",
        "    'longitude': [10, 20, 30, 40, 50],\n",
        "    'latitude': [15, 25, 35, 45, 55],\n",
        "    'log_EIR': [1.2, 2.4, 1.8, 2.0, 2.5]\n",
        "})\n",
        "\n",
        "# New locations for prediction\n",
        "new_locations = pd.DataFrame({\n",
        "    'longitude': [12, 22, 32],\n",
        "    'latitude': [18, 28, 38]\n",
        "})\n"
      ]
    },
    {
      "cell_type": "code",
      "source": [
        "stan_code = \"\"\"\n",
        "data {\n",
        "    int<lower=0> N; // number of observations\n",
        "    int<lower=0> M; // number of new locations\n",
        "    matrix[N, 2] coords; // coordinates of observations\n",
        "    vector[N] log_EIR; // observed log_EIR values\n",
        "    matrix[M, 2] new_coords; // coordinates of new locations\n",
        "}\n",
        "parameters {\n",
        "    real alpha; // intercept\n",
        "    real<lower=0> sigma2; // variance\n",
        "    real<lower=0> phi; // range parameter\n",
        "}\n",
        "model {\n",
        "    vector[N] mu;\n",
        "    for (i in 1:N)\n",
        "        mu[i] = alpha;\n",
        "\n",
        "    // Priors\n",
        "    alpha ~ normal(0, 10);\n",
        "    sigma2 ~ inv_gamma(2, 2);\n",
        "    phi ~ normal(0, 10);\n",
        "\n",
        "    // Likelihood\n",
        "    for (i in 1:N) {\n",
        "        for (j in i:N) {\n",
        "            if (i != j) {\n",
        "                log_EIR[i] ~ normal(mu[i], sqrt(sigma2 * exp(-phi * distance(coords[i], coords[j]))));\n",
        "            }\n",
        "        }\n",
        "    }\n",
        "}\n",
        "generated quantities {\n",
        "    vector[M] log_EIR_pred;\n",
        "    for (i in 1:M) {\n",
        "        log_EIR_pred[i] = normal_rng(alpha, sqrt(sigma2));\n",
        "    }\n",
        "}\n",
        "\"\"\"\n",
        "\n",
        "# Define the distance function\n",
        "def distance(coord1, coord2):\n",
        "    return np.sqrt(np.sum((coord1 - coord2)**2))\n",
        "\n",
        "# Convert data to Stan format\n",
        "stan_data = {\n",
        "    'N': data.shape[0],\n",
        "    'M': new_locations.shape[0],\n",
        "    'coords': data[['longitude', 'latitude']].values,\n",
        "    'log_EIR': data['log_EIR'].values,\n",
        "    'new_coords': new_locations[['longitude', 'latitude']].values\n",
        "}\n"
      ],
      "metadata": {
        "id": "yqsGHpt8BDjz"
      },
      "execution_count": 8,
      "outputs": []
    },
    {
      "cell_type": "code",
      "source": [
        "sm = pystan.StanModel(model_code=stan_code)\n",
        "fit = sm.sampling(data=stan_data, iter=1000, chains=4)\n",
        "\n",
        "# Extract results\n",
        "alpha = fit.extract('alpha')['alpha']\n",
        "sigma2 = fit.extract('sigma2')['sigma2']\n",
        "phi = fit.extract('phi')['phi']\n",
        "log_EIR_pred = fit.extract('log_EIR_pred')['log_EIR_pred']\n"
      ],
      "metadata": {
        "colab": {
          "base_uri": "https://localhost:8080/",
          "height": 216
        },
        "id": "VRbyew-OBIUQ",
        "outputId": "be842d51-a3e2-4092-e712-296782e8c186"
      },
      "execution_count": 9,
      "outputs": [
        {
          "output_type": "error",
          "ename": "NameError",
          "evalue": "name 'pystan' is not defined",
          "traceback": [
            "\u001b[0;31m---------------------------------------------------------------------------\u001b[0m",
            "\u001b[0;31mNameError\u001b[0m                                 Traceback (most recent call last)",
            "\u001b[0;32m<ipython-input-9-3fef27a65cec>\u001b[0m in \u001b[0;36m<cell line: 1>\u001b[0;34m()\u001b[0m\n\u001b[0;32m----> 1\u001b[0;31m \u001b[0msm\u001b[0m \u001b[0;34m=\u001b[0m \u001b[0mpystan\u001b[0m\u001b[0;34m.\u001b[0m\u001b[0mStanModel\u001b[0m\u001b[0;34m(\u001b[0m\u001b[0mmodel_code\u001b[0m\u001b[0;34m=\u001b[0m\u001b[0mstan_code\u001b[0m\u001b[0;34m)\u001b[0m\u001b[0;34m\u001b[0m\u001b[0;34m\u001b[0m\u001b[0m\n\u001b[0m\u001b[1;32m      2\u001b[0m \u001b[0mfit\u001b[0m \u001b[0;34m=\u001b[0m \u001b[0msm\u001b[0m\u001b[0;34m.\u001b[0m\u001b[0msampling\u001b[0m\u001b[0;34m(\u001b[0m\u001b[0mdata\u001b[0m\u001b[0;34m=\u001b[0m\u001b[0mstan_data\u001b[0m\u001b[0;34m,\u001b[0m \u001b[0miter\u001b[0m\u001b[0;34m=\u001b[0m\u001b[0;36m1000\u001b[0m\u001b[0;34m,\u001b[0m \u001b[0mchains\u001b[0m\u001b[0;34m=\u001b[0m\u001b[0;36m4\u001b[0m\u001b[0;34m)\u001b[0m\u001b[0;34m\u001b[0m\u001b[0;34m\u001b[0m\u001b[0m\n\u001b[1;32m      3\u001b[0m \u001b[0;34m\u001b[0m\u001b[0m\n\u001b[1;32m      4\u001b[0m \u001b[0;31m# Extract results\u001b[0m\u001b[0;34m\u001b[0m\u001b[0;34m\u001b[0m\u001b[0m\n\u001b[1;32m      5\u001b[0m \u001b[0malpha\u001b[0m \u001b[0;34m=\u001b[0m \u001b[0mfit\u001b[0m\u001b[0;34m.\u001b[0m\u001b[0mextract\u001b[0m\u001b[0;34m(\u001b[0m\u001b[0;34m'alpha'\u001b[0m\u001b[0;34m)\u001b[0m\u001b[0;34m[\u001b[0m\u001b[0;34m'alpha'\u001b[0m\u001b[0;34m]\u001b[0m\u001b[0;34m\u001b[0m\u001b[0;34m\u001b[0m\u001b[0m\n",
            "\u001b[0;31mNameError\u001b[0m: name 'pystan' is not defined"
          ]
        }
      ]
    },
    {
      "cell_type": "code",
      "source": [
        "# Summary of predictions\n",
        "predictions = np.mean(log_EIR_pred, axis=0)\n",
        "pred_intervals = np.percentile(log_EIR_pred, [2.5, 97.5], axis=0)\n",
        "\n",
        "# Print predictions and intervals\n",
        "for i, loc in new_locations.iterrows():\n",
        "    print(f\"Location ({loc['longitude']}, {loc['latitude']}):\")\n",
        "    print(f\"Predicted log(EIR): {predictions[i]}\")\n",
        "    print(f\"95% CI: ({pred_intervals[0, i]}, {pred_intervals[1, i]})\")\n"
      ],
      "metadata": {
        "id": "7Au2vO_LBLii"
      },
      "execution_count": null,
      "outputs": []
    },
    {
      "cell_type": "code",
      "source": [
        "plt.scatter(data['longitude'], data['latitude'], c=data['log_EIR'], cmap='viridis', label='Observed')\n",
        "plt.scatter(new_locations['longitude'], new_locations['latitude'], c=predictions, cmap='viridis', marker='x', label='Predicted')\n",
        "plt.colorbar(label='log(EIR)')\n",
        "plt.xlabel('Longitude')\n",
        "plt.ylabel('Latitude')\n",
        "plt.legend()\n",
        "plt.show()\n"
      ],
      "metadata": {
        "id": "THhYQnxHBQY5"
      },
      "execution_count": null,
      "outputs": []
    }
  ]
}